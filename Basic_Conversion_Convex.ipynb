{
 "cells": [
  {
   "cell_type": "code",
   "execution_count": 7,
   "metadata": {},
   "outputs": [
    {
     "name": "stdout",
     "output_type": "stream",
     "text": [
      "Type of x: Int64\n",
      "Type of x1: UInt8\n",
      "Type of x2: Float64\n",
      "Type of x3: Complex{Float64}\n",
      "Type of a: Array{Any,2}\n",
      "Type of a1: Array{Float64,2}\n"
     ]
    }
   ],
   "source": [
    "using Convex\n",
    "\n",
    "###########################################\n",
    "x = 12\n",
    "println(\"Type of x: \", typeof(x))\n",
    "\n",
    "x1 = convert(UInt8, x)\n",
    "println(\"Type of x1: \", typeof(x1))\n",
    "\n",
    "x2 = convert(AbstractFloat, x)\n",
    "println(\"Type of x2: \", typeof(x2))\n",
    "\n",
    "x3 = convert(Complex{Float64}, x)\n",
    "println(\"Type of x3: \", typeof(x3))\n",
    "\n",
    "#########################################\n",
    "a = Any[1 2 3; 4 5 6]\n",
    "println(\"Type of a: \", typeof(a))\n",
    "\n",
    "a1 = convert(Array{Float64}, a)\n",
    "println(\"Type of a1: \", typeof(a1))"
   ]
  },
  {
   "cell_type": "code",
   "execution_count": null,
   "metadata": {
    "collapsed": true
   },
   "outputs": [],
   "source": []
  }
 ],
 "metadata": {
  "kernelspec": {
   "display_name": "Julia 0.5.1",
   "language": "julia",
   "name": "julia-0.5"
  },
  "language_info": {
   "file_extension": ".jl",
   "mimetype": "application/julia",
   "name": "julia",
   "version": "0.5.1"
  }
 },
 "nbformat": 4,
 "nbformat_minor": 2
}
