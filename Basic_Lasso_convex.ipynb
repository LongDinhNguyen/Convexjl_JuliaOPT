{
 "cells": [
  {
   "cell_type": "code",
   "execution_count": 1,
   "metadata": {
    "collapsed": true
   },
   "outputs": [],
   "source": [
    "# Boyd & Vandenberghe, \"Convex Optimization\"\n",
    "#\n",
    "# Solved a Lasso problem:\n",
    "#           minimize    ||Ax - b||_2^2 + gamma*||x||_1\n",
    "#               s.t.    some constraints if have"
   ]
  },
  {
   "cell_type": "code",
   "execution_count": 8,
   "metadata": {},
   "outputs": [
    {
     "name": "stdout",
     "output_type": "stream",
     "text": [
      "  0.056600 seconds (15.10 k allocations: 1.681 MB)\n",
      "Status: Optimal\n",
      "Optimal value = 29.60214585895081\n"
     ]
    }
   ],
   "source": [
    "# tic()\n",
    "using Convex\n",
    "\n",
    "n = 50;\n",
    "\n",
    "A = randn(n, n)\n",
    "A = A' * A + eye(n)\n",
    "\n",
    "# println(P0)\n",
    "\n",
    "b = randn(n,1); \n",
    "\n",
    "gamma = 1;\n",
    "\n",
    "x = Variable(n)\n",
    "\n",
    "obj = sumsquares(A*x - b) + gamma*norm(x, 1)\n",
    "\n",
    "problem = minimize(obj, x >= 0 )\n",
    "\n",
    "using SCS\n",
    "@time solve!(problem, SCSSolver())\n",
    "# toc()\n",
    "\n",
    "println(\"Status: \", problem.status)\n",
    "println(\"Optimal value = \", problem.optval)\n",
    "# println(\"x = \", x)"
   ]
  },
  {
   "cell_type": "code",
   "execution_count": null,
   "metadata": {
    "collapsed": true
   },
   "outputs": [],
   "source": []
  }
 ],
 "metadata": {
  "kernelspec": {
   "display_name": "Julia 0.5.2",
   "language": "julia",
   "name": "julia-0.5"
  },
  "language_info": {
   "file_extension": ".jl",
   "mimetype": "application/julia",
   "name": "julia",
   "version": "0.5.2"
  }
 },
 "nbformat": 4,
 "nbformat_minor": 2
}
