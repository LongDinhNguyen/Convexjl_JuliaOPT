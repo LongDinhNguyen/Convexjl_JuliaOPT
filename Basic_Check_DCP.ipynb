{
 "cells": [
  {
   "cell_type": "code",
   "execution_count": 1,
   "metadata": {},
   "outputs": [
    {
     "name": "stderr",
     "output_type": "stream",
     "text": [
      "\u001b[1m\u001b[31mWARNING: quad_over_lin is deprecated, use quadoverlin instead.\u001b[0m\n",
      " in depwarn(::String, ::Symbol) at .\\deprecated.jl:64\n",
      " in quad_over_lin(::Convex.AdditionAtom, ::Vararg{Convex.AdditionAtom,N}) at .\\deprecated.jl:30\n",
      " in include_string(::String, ::String) at .\\loading.jl:441\n",
      " in execute_request(::ZMQ.Socket, ::IJulia.Msg) at C:\\Users\\LONG NGUYEN\\Documents\\CVXPY\\.julia\\v0.5\\IJulia\\src\\execute_request.jl:156\n",
      " in eventloop(::ZMQ.Socket) at C:\\Users\\LONG NGUYEN\\Documents\\CVXPY\\.julia\\v0.5\\IJulia\\src\\eventloop.jl:8\n",
      " in (::IJulia.##13#19)() at .\\task.jl:360\n",
      "while loading In[1], in expression starting on line 5\n"
     ]
    },
    {
     "name": "stdout",
     "output_type": "stream",
     "text": [
      "expression curvature = Convex.ConvexVexity()\n",
      "expression sign = Convex.Positive()\n"
     ]
    }
   ],
   "source": [
    "# DCP analysis in Convex.jl\n",
    "using Convex\n",
    "x = Variable();\n",
    "y = Variable();\n",
    "expr = quad_over_lin(x - y, 1 - max(x, y));\n",
    "println(\"expression curv = \", vexity(expr));\n",
    "println(\"expression sign = \", sign(expr));"
   ]
  },
  {
   "cell_type": "code",
   "execution_count": 3,
   "metadata": {},
   "outputs": [
    {
     "name": "stdout",
     "output_type": "stream",
     "text": [
      "expression curv = Convex.NotDcp()\n",
      "expression sign = Convex.NoSign()\n"
     ]
    },
    {
     "name": "stderr",
     "output_type": "stream",
     "text": [
      "\u001b[1m\u001b[31mWARNING: Expression not DCP compliant. Trying to solve non-DCP compliant problems can lead to unexpected behavior.\u001b[0m\n"
     ]
    }
   ],
   "source": [
    "# DCP analysis in Convex.jl\n",
    "using Convex\n",
    "x = Variable();\n",
    "y = Variable();\n",
    "expr = (x * y);\n",
    "println(\"expression curv = \", vexity(expr));\n",
    "println(\"expression sign = \", sign(expr));"
   ]
  },
  {
   "cell_type": "code",
   "execution_count": 4,
   "metadata": {},
   "outputs": [
    {
     "name": "stdout",
     "output_type": "stream",
     "text": [
      "expression curv = Convex.AffineVexity()\n",
      "expression sign = Convex.NoSign()\n"
     ]
    }
   ],
   "source": [
    "# DCP analysis in Convex.jl\n",
    "using Convex\n",
    "x = Variable();\n",
    "y = Variable();\n",
    "expr = trace(x);\n",
    "println(\"expression curv = \", vexity(expr));\n",
    "println(\"expression sign = \", sign(expr));"
   ]
  },
  {
   "cell_type": "code",
   "execution_count": null,
   "metadata": {
    "collapsed": true
   },
   "outputs": [],
   "source": []
  }
 ],
 "metadata": {
  "kernelspec": {
   "display_name": "Julia 0.5.1",
   "language": "julia",
   "name": "julia-0.5"
  },
  "language_info": {
   "file_extension": ".jl",
   "mimetype": "application/julia",
   "name": "julia",
   "version": "0.5.1"
  }
 },
 "nbformat": 4,
 "nbformat_minor": 2
}
