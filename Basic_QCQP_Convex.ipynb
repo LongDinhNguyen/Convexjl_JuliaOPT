{
 "cells": [
  {
   "cell_type": "code",
   "execution_count": 2,
   "metadata": {
    "collapsed": true
   },
   "outputs": [],
   "source": [
    "# Taken from CVX website http://cvxr.com/cvx/examples/\n",
    "# Derived from Example: Finding the fastest mixing Markov chain on a graph\n",
    "# Ported from cvx matlab to cvxpy by Misrab Faizullah-Khan\n",
    "# Original comments below\n",
    "\n",
    "# Boyd & Vandenberghe, \"Convex Optimization\"\n",
    "# Joelle Skaf - 08/23/05\n",
    "#\n",
    "# Solved a QCQP with 3 inequalities:\n",
    "#           minimize    1/2 x'*P0*x + q0'*r + r0\n",
    "#               s.t.    1/2 x'*Pi*x + qi'*r + ri <= 0   for i=1,2,3\n",
    "# and verifies that strong duality holds."
   ]
  },
  {
   "cell_type": "code",
   "execution_count": 15,
   "metadata": {},
   "outputs": [
    {
     "name": "stdout",
     "output_type": "stream",
     "text": [
      "  0.024107 seconds (9.12 k allocations: 499.063 KB)\n",
      "Status: Optimal\n",
      "Optimal value = -1.1475290262855395\n",
      "Value of x = [-0.298417; 0.382046; 0.465829; 0.120478; 0.667988]\n"
     ]
    }
   ],
   "source": [
    "#tic()\n",
    "using Convex\n",
    "\n",
    "n = 5;\n",
    "\n",
    "P0 = randn(n, n); P0 = P0' * P0 + eye(n);\n",
    "\n",
    "# println(P0)\n",
    "\n",
    "P1 = randn(n, n); P1 = P1'*P1; P1 = P1' * P1 + eye(n);\n",
    "P2 = randn(n, n); P2 = P2'*P2; P2 = P2' * P2 + eye(n);\n",
    "P3 = randn(n, n); P3 = P3'*P3; P3 = P3' * P3 + eye(n);\n",
    "\n",
    "q0 = randn(n,1); q1 = randn(n,1); q2 = randn(n,1); q3 = randn(n,1);\n",
    "r0 = randn(1,1); r1 = randn(1,1); r2 = randn(1,1); r3 = randn(1,1);\n",
    "\n",
    "x = Variable(n)\n",
    "\n",
    "obj = quadform(x,P0) + dot(q0,x) + sum(r0)\n",
    "const1 = quadform(x,P1) + dot(q1,x) + r1\n",
    "const2 = quadform(x,P2) + dot(q2,x) + r2\n",
    "const3 = quadform(x,P3) + dot(q3,x) + r3\n",
    "problem = minimize(obj, const1 <= 100, const2 <= 100, const3 <= 100)\n",
    "\n",
    "@time solve!(problem)\n",
    "\n",
    "#toc()\n",
    "\n",
    "println(\"Status: \", problem.status)\n",
    "println(\"Optimal value = \", problem.optval)\n",
    "println(\"Value of x = \", x.value)"
   ]
  },
  {
   "cell_type": "code",
   "execution_count": null,
   "metadata": {
    "collapsed": true
   },
   "outputs": [],
   "source": []
  }
 ],
 "metadata": {
  "kernelspec": {
   "display_name": "Julia 0.5.2",
   "language": "julia",
   "name": "julia-0.5"
  },
  "language_info": {
   "file_extension": ".jl",
   "mimetype": "application/julia",
   "name": "julia",
   "version": "0.5.2"
  }
 },
 "nbformat": 4,
 "nbformat_minor": 2
}
