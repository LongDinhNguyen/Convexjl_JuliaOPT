{
 "cells": [
  {
   "cell_type": "code",
   "execution_count": 2,
   "metadata": {
    "collapsed": true
   },
   "outputs": [],
   "source": [
    "# Here is a constrained entropy maximization problem:\n",
    "#    maximize    sum_{i=1}^n x_i log x_i \n",
    "#    subject to  1' x = 1 \n",
    "#                 Ax \\leq b\n",
    "# where x in R^n is our optimization variable and A in R^{m x n}, b in R^m."
   ]
  },
  {
   "cell_type": "code",
   "execution_count": 30,
   "metadata": {},
   "outputs": [
    {
     "name": "stdout",
     "output_type": "stream",
     "text": [
      "elapsed time: 3.176009149 seconds\n",
      "Optimal\n",
      "6.21316170980461\n"
     ]
    }
   ],
   "source": [
    "tic()\n",
    "using Convex, SCS\n",
    "\n",
    "n = 50;\n",
    "m = 20;\n",
    "A = randn(m, n); \n",
    "b = rand(m, 1); \n",
    "\n",
    "x = Variable(n);\n",
    "problem = maximize(entropy(x), sum(x) == 1, A * x <= b)\n",
    "solve!(problem, SCSSolver(verbose=0))\n",
    "toc()\n",
    "\n",
    "println(problem.status)\n",
    "println(problem.optval)\n",
    "# println(x.value)"
   ]
  },
  {
   "cell_type": "code",
   "execution_count": null,
   "metadata": {
    "collapsed": true
   },
   "outputs": [],
   "source": []
  }
 ],
 "metadata": {
  "kernelspec": {
   "display_name": "Julia 0.5.2",
   "language": "julia",
   "name": "julia-0.5"
  },
  "language_info": {
   "file_extension": ".jl",
   "mimetype": "application/julia",
   "name": "julia",
   "version": "0.5.2"
  }
 },
 "nbformat": 4,
 "nbformat_minor": 2
}
