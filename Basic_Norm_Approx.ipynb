{
 "cells": [
  {
   "cell_type": "code",
   "execution_count": 1,
   "metadata": {
    "collapsed": true
   },
   "outputs": [],
   "source": [
    "# Taken from CVX website http://cvxr.com/cvx/examples/\n",
    "# Examples 5.6,5.8: An l_p norm approximation problem\n",
    "# Ported from cvx matlab to cvxpy by Misrab Faizullah-Khan\n",
    "# Original comments below\n",
    "\n",
    "# Boyd & Vandenberghe \"Convex Optimization\"\n",
    "# Joelle Skaf - 08/23/05\n",
    "#\n",
    "# The goal is to show the following problem formulations give all the same\n",
    "# optimal residual norm ||Ax - b||:\n",
    "# 1)        minimize    ||Ax - b||\n",
    "# 2)        minimize    ||y||\n",
    "#               s.t.    Ax - b = y\n",
    "# 3)        maximize    b'v\n",
    "#               s.t.    ||v||* <= 1  , A'v = 0\n",
    "# 4)        minimize    1/2 ||y||^2\n",
    "#               s.t.    Ax - b = y\n",
    "# 5)        maximize    -1/2||v||*^2 + b'v\n",
    "#               s.t.    A'v = 0\n",
    "# where ||.||* denotes the dual norm of ||.||"
   ]
  },
  {
   "cell_type": "code",
   "execution_count": 8,
   "metadata": {},
   "outputs": [
    {
     "name": "stdout",
     "output_type": "stream",
     "text": [
      "  0.001361 seconds (1.65 k allocations: 97.719 KB)\n",
      "Computing the optimal solution of org problem...\n",
      "Status:Optimal\n",
      "Opt value:1.4157838389043442\n",
      "  0.001490 seconds (1.98 k allocations: 120.109 KB)\n",
      "#####################################\n",
      "Computing the optimal solution of problem 1...\n",
      "Status:Optimal\n",
      "Opt value:1.4158041922905515\n",
      "  0.002177 seconds (3.06 k allocations: 171.781 KB)\n",
      "#####################################\n",
      "Computing the optimal solution of problem 2...\n",
      "Status:Optimal\n",
      "Opt value:1.0021947712304644\n"
     ]
    }
   ],
   "source": [
    "using Convex\n",
    "\n",
    "# Input data\n",
    "n = 4\n",
    "m = 2*n\n",
    "A = randn(m,n)\n",
    "b = randn(m,1)\n",
    "p = 2\n",
    "q = p/(p-1)\n",
    "\n",
    "# ########################################\n",
    "# Original problem\n",
    "x = Variable(n)\n",
    "obj_org = norm(A*x - b,p)\n",
    "prob_org = minimize(obj_org)\n",
    "\n",
    "@time solve!(prob_org)\n",
    "\n",
    "println(\"Computing the optimal solution of org problem...\")\n",
    "println(\"Status:\", prob_org.status)\n",
    "println(\"Opt value:\", prob_org.optval)\n",
    "\n",
    "# ############################################\n",
    "# Reformulation 1\n",
    "x = Variable(n)\n",
    "y = Variable(m)\n",
    "obj1 = norm(y, p)\n",
    "prob1 = minimize(obj1, A*x - b == y)\n",
    "\n",
    "@time solve!(prob1)\n",
    "\n",
    "println(\"#####################################\")\n",
    "println(\"Computing the optimal solution of problem 1...\")\n",
    "println(\"Status:\", prob1.status)\n",
    "println(\"Opt value:\", prob1.optval)\n",
    "\n",
    "# ##############################################\n",
    "# Reformulation 2\n",
    "x = Variable(n)\n",
    "y = Variable(m)\n",
    "obj2 = 0.5*norm(y, p)^2\n",
    "prob2 = minimize(obj2, A*x - b == y )\n",
    "\n",
    "@time solve!(prob2)\n",
    "\n",
    "println(\"#####################################\")\n",
    "println(\"Computing the optimal solution of problem 2...\")\n",
    "println(\"Status:\", prob2.status)\n",
    "println(\"Opt value:\", prob2.optval)"
   ]
  },
  {
   "cell_type": "code",
   "execution_count": null,
   "metadata": {
    "collapsed": true
   },
   "outputs": [],
   "source": []
  }
 ],
 "metadata": {
  "kernelspec": {
   "display_name": "Julia 0.5.2",
   "language": "julia",
   "name": "julia-0.5"
  },
  "language_info": {
   "file_extension": ".jl",
   "mimetype": "application/julia",
   "name": "julia",
   "version": "0.5.2"
  }
 },
 "nbformat": 4,
 "nbformat_minor": 2
}
