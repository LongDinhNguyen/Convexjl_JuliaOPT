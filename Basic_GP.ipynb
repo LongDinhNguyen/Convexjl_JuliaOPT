{
 "cells": [
  {
   "cell_type": "code",
   "execution_count": 1,
   "metadata": {
    "collapsed": true
   },
   "outputs": [],
   "source": [
    "#############################################################################\n",
    "# Solving geometry programming\n",
    "#\n",
    "# Solves a simple GP problem:\n",
    "# max product(vec(x)) , i = 1,...,K\n",
    "#  st w'*x >= C\n",
    "#     x_i <= 10\n",
    "\n",
    "# Reform GP problem:\n",
    "# max log(x_1) + ... + log(x_K) , i = 1,...,K\n",
    "#  st w'*x >= C\n",
    "#     x_i <= 10\n",
    "#############################################################################"
   ]
  },
  {
   "cell_type": "code",
   "execution_count": 20,
   "metadata": {},
   "outputs": [
    {
     "name": "stdout",
     "output_type": "stream",
     "text": [
      "  0.006079 seconds (12.42 k allocations: 861.500 KB)\n",
      "Status: Optimal\n",
      "Optimal value = 1.6514889268213362e-5\n",
      "Value of x = Variable of\n",
      "size: (20, 1)\n",
      "sign: Convex.NoSign()\n",
      "vexity: Convex.AffineVexity()\n",
      "value: [0.492677; 0.453472; 0.465516; 1.61618; 3.25467; 0.266745; 0.414204; 0.29642; 1.51459; 0.410523; 0.330087; 0.488025; 0.259162; 0.408976; 0.253531; 5.0; 0.623577; 0.430349; 0.3671; 0.695255]\n"
     ]
    }
   ],
   "source": [
    "using Convex \n",
    "using MathProgBase\n",
    "\n",
    "# Maximization problem\n",
    "size_vec = 20\n",
    "w = rand(size_vec) \n",
    "C = 5\n",
    "\n",
    "x = Variable(size_vec)\n",
    "\n",
    "# Objective: maximize profit\n",
    "# obj = x[1]*x[2]*...*x[K]\n",
    "obj = sum(log(x[i]) for i=1:size_vec)\n",
    "\n",
    "# Constraint: can carry all\n",
    "const1 = dot(w, x)\n",
    "\n",
    "problem = maximize(obj, const1 <= C, x <= 5)\n",
    "\n",
    "\n",
    "# Solve problem using MIP solver\n",
    "using ECOS\n",
    "@time solve!(problem, ECOSSolver())\n",
    "# toc()\n",
    "\n",
    "opt_obj_org = 1;\n",
    "for i = 1:size_vec\n",
    "    opt_obj_org = opt_obj_org*x.value[i]\n",
    "end\n",
    "\n",
    "println(\"Status: \", problem.status)\n",
    "println(\"Optimal value = \", opt_obj_org)\n",
    "println(\"Value of x = \", x)"
   ]
  },
  {
   "cell_type": "code",
   "execution_count": 21,
   "metadata": {
    "collapsed": true
   },
   "outputs": [],
   "source": [
    "#############################################################################\n",
    "# Solving geometry programming\n",
    "#\n",
    "# Solves a simple GP problem:\n",
    "# max e^(x1*x2) , i = 1,...,K\n",
    "#  st w'*x >= C\n",
    "#     x_i <= 2\n",
    "\n",
    "# Reform GP problem:\n",
    "# max log(x_1) + ... + log(x_K) , i = 1,...,K\n",
    "#  st w'*x >= C\n",
    "#     x_i <= 10\n",
    "#############################################################################"
   ]
  },
  {
   "cell_type": "code",
   "execution_count": 33,
   "metadata": {},
   "outputs": [
    {
     "name": "stdout",
     "output_type": "stream",
     "text": [
      "  0.015178 seconds (13.72 k allocations: 620.128 KB)\n",
      "Status: Optimal\n",
      "Optimal value = 0.7459123380077473\n",
      "Value of x = Variable of\n",
      "size: (2, 1)\n",
      "sign: Convex.NoSign()\n",
      "vexity: Convex.AffineVexity()\n",
      "value: [0.1; 3.12888]\n"
     ]
    }
   ],
   "source": [
    "using Convex \n",
    "using MathProgBase\n",
    "\n",
    "# Maximization problem\n",
    "size_vec = 2\n",
    "w = rand(size_vec) \n",
    "C = 5\n",
    "\n",
    "x = Variable(size_vec)\n",
    "\n",
    "# obj = exp(x[1]*x[2]) --> e^x[1]\n",
    "# obj = exp(sum(x[1] for i=1:size_vec) ) --> e^(sum(x))\n",
    "obj = exp(x[1])^(4) # --> exponential number must be even number\n",
    "\n",
    "# Constraint: can carry all\n",
    "const1 = dot(w, x)\n",
    "\n",
    "problem = minimize(obj, const1 <= C, x >= 0.1)\n",
    "\n",
    "\n",
    "# Solve problem using MIP solver\n",
    "using ECOS\n",
    "@time solve!(problem, ECOSSolver())\n",
    "# toc()\n",
    "\n",
    "#opt_obj_org = 1;\n",
    "#for i = 1:size_vec\n",
    "#    opt_obj_org = opt_obj_org*x.value[i]\n",
    "#end\n",
    "\n",
    "println(\"Status: \", problem.status)\n",
    "println(\"Optimal value = \", problem.optval)\n",
    "println(\"Value of x = \", x)"
   ]
  },
  {
   "cell_type": "code",
   "execution_count": null,
   "metadata": {
    "collapsed": true
   },
   "outputs": [],
   "source": []
  }
 ],
 "metadata": {
  "kernelspec": {
   "display_name": "Julia 0.5.2",
   "language": "julia",
   "name": "julia-0.5"
  },
  "language_info": {
   "file_extension": ".jl",
   "mimetype": "application/julia",
   "name": "julia",
   "version": "0.5.2"
  }
 },
 "nbformat": 4,
 "nbformat_minor": 2
}
