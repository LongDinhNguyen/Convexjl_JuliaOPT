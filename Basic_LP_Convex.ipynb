{
 "cells": [
  {
   "cell_type": "code",
   "execution_count": 1,
   "metadata": {
    "collapsed": true
   },
   "outputs": [],
   "source": [
    "#  Copyright 2017, Iain Dunning, Joey Huchette, Miles Lubin, and contributors\n",
    "#  This Source Code Form is subject to the terms of the Mozilla Public\n",
    "#  License, v. 2.0. If a copy of the MPL was not distributed with this\n",
    "#  file, You can obtain one at http://mozilla.org/MPL/2.0/.\n",
    "#############################################################################\n",
    "# Convex.jl\n",
    "#############################################################################\n",
    "# basic.jl\n",
    "#\n",
    "# Solves a simple LP:\n",
    "# max 5x + 3y\n",
    "#  st 1x + 5y <= 3\n",
    "#      0 <= x <= 2\n",
    "#      0 <= y <= 20\n",
    "#############################################################################"
   ]
  },
  {
   "cell_type": "code",
   "execution_count": 13,
   "metadata": {},
   "outputs": [
    {
     "name": "stdout",
     "output_type": "stream",
     "text": [
      "  0.001658 seconds (2.99 k allocations: 146.359 KB)\n",
      "Status: Optimal\n",
      "Objective value: 10.60002182723625\n",
      "x = Variable of\n",
      "size: (1, 1)\n",
      "sign: Convex.NoSign()\n",
      "vexity: Convex.AffineVexity()\n",
      "value: 1.999970462754866\n",
      "y = Variable of\n",
      "size: (1, 1)\n",
      "sign: Convex.NoSign()\n",
      "vexity: Convex.AffineVexity()\n",
      "value: 0.20005302174689388\n"
     ]
    }
   ],
   "source": [
    "using Convex\n",
    "\n",
    "x = Variable()\n",
    "y = Variable()\n",
    "\n",
    "obj = 5*x+3*y\n",
    "\n",
    "problem = maximize(obj, 1*x + 5*y <= 3, 0 <= x, x <= 2, 0 <= y, y <= 30)\n",
    "\n",
    "@time solve!(problem)\n",
    "\n",
    "println(\"Status: \", problem.status)\n",
    "println(\"Objective value: \", problem.optval)\n",
    "println(\"x = \", x)\n",
    "println(\"y = \", y)\n"
   ]
  },
  {
   "cell_type": "code",
   "execution_count": 17,
   "metadata": {},
   "outputs": [
    {
     "name": "stdout",
     "output_type": "stream",
     "text": [
      "  0.001855 seconds (2.94 k allocations: 144.266 KB)\n",
      "Status: Optimal\n",
      "Objective value: 10.60002182723625\n"
     ]
    },
    {
     "name": "stderr",
     "output_type": "stream",
     "text": [
      "WARNING: Method definition f(Any, Any) in module Main at In[16]:4 overwritten at In[17]:4.\n"
     ]
    }
   ],
   "source": [
    "function f(a,b)\n",
    "    #using Convex\n",
    "\n",
    "    x = Variable()\n",
    "    y = Variable()\n",
    "\n",
    "    obj = a*x+b*y\n",
    "\n",
    "    problem = maximize(obj, 1*x + 5*y <= 3, 0 <= x, x <= 2, 0 <= y, y <= 30)\n",
    "\n",
    "    @time solve!(problem)\n",
    "\n",
    "    println(\"Status: \", problem.status)\n",
    "    println(\"Objective value: \", problem.optval)\n",
    "    #println(\"x = \", x)\n",
    "    #println(\"y = \", y)\n",
    "end\n",
    "\n",
    "#a = 5;\n",
    "#b = 3;\n",
    "using Convex\n",
    "f(5,3)\n"
   ]
  },
  {
   "cell_type": "code",
   "execution_count": null,
   "metadata": {
    "collapsed": true
   },
   "outputs": [],
   "source": []
  }
 ],
 "metadata": {
  "kernelspec": {
   "display_name": "Julia 0.5.2",
   "language": "julia",
   "name": "julia-0.5"
  },
  "language_info": {
   "file_extension": ".jl",
   "mimetype": "application/julia",
   "name": "julia",
   "version": "0.5.2"
  }
 },
 "nbformat": 4,
 "nbformat_minor": 2
}
