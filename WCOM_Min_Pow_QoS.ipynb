{
 "cells": [
  {
   "cell_type": "code",
   "execution_count": 1,
   "metadata": {
    "collapsed": true
   },
   "outputs": [],
   "source": [
    "# Long Dinh Nguyen, PhD student at Queen's University Belfast\n",
    "# Email: dinhlonghcmut@gmail.com (lnguyen04@qub.ac.uk)\n",
    "#\n",
    "#\n",
    "#\n",
    "# This convex problem is to minimize the transmit power with multiple constraints (power budget, data rate QoS, ...) \n",
    "# Assuming all interference is eliminated by techniques (Conj, ZF, MMSE ...)\n",
    "# The general problem as\n",
    "# min ||x||_2^2\n",
    "# s.t. log(1 + |h'*x|^2/delta) >= r_{min}\n",
    "#      ||x||_2^2 <= P_{max}\n",
    "###########################################"
   ]
  },
  {
   "cell_type": "code",
   "execution_count": 34,
   "metadata": {},
   "outputs": [
    {
     "name": "stdout",
     "output_type": "stream",
     "text": [
      "  0.134015 seconds (197.07 k allocations: 34.445 MB, 10.88% gc time)\n",
      "Status: Optimal\n",
      "Objective value: 0.002808605638294858\n"
     ]
    }
   ],
   "source": [
    "using Convex\n",
    "\n",
    "# Set data \n",
    "n = 5000; # size of MISO (multi-antenna at BS and single-antenna at UE)\n",
    "delta = 1; # normalized the Gaussian noise at receivers\n",
    "P0 = 100; # the maximum power budget\n",
    "r0 = 2; # the data rate QoS\n",
    "\n",
    "h = 0.5*(randn(n,1) + im*randn(n,1)) # channel gain from BS to UE\n",
    "\n",
    "# println(h)\n",
    "\n",
    "# set variable\n",
    "x = ComplexVariable(n)\n",
    "\n",
    "obj = square(norm(x,2))\n",
    "problem = minimize(obj, [square(norm(x,2)) <= P0, real(h'*x) >= sqrt(exp(r0)*delta)])\n",
    "\n",
    "using SCS\n",
    "@time solve!(problem, SCSSolver())\n",
    "\n",
    "println(\"Status: \", problem.status)\n",
    "println(\"Objective value: \", problem.optval)\n",
    "# println(\"x = \", x)\n"
   ]
  },
  {
   "cell_type": "code",
   "execution_count": 35,
   "metadata": {
    "collapsed": true
   },
   "outputs": [],
   "source": [
    "# compare time solve between Convex.jl and CVX\n",
    "# size-n     Convexjl      CVX\n",
    "#  1000      0.0425s      6.56s\n",
    "#  5000      0.1340s      70.21s"
   ]
  },
  {
   "cell_type": "code",
   "execution_count": null,
   "metadata": {
    "collapsed": true
   },
   "outputs": [],
   "source": []
  }
 ],
 "metadata": {
  "kernelspec": {
   "display_name": "Julia 0.5.2",
   "language": "julia",
   "name": "julia-0.5"
  },
  "language_info": {
   "file_extension": ".jl",
   "mimetype": "application/julia",
   "name": "julia",
   "version": "0.5.2"
  }
 },
 "nbformat": 4,
 "nbformat_minor": 2
}
