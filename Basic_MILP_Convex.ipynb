{
 "cells": [
  {
   "cell_type": "code",
   "execution_count": 8,
   "metadata": {
    "collapsed": true
   },
   "outputs": [],
   "source": [
    "# Using Convexjl\n",
    "#############################################################################\n",
    "# basic.jl\n",
    "#\n",
    "# Solves a simple Mixed-Integer LP:\n",
    "# max 5x + 3y\n",
    "#  st 3x + 1y <= 10\n",
    "#      0 <= x <= 10\n",
    "#      0 <= y <= 5\n",
    "#      x,y in integer\n",
    "#############################################################################"
   ]
  },
  {
   "cell_type": "code",
   "execution_count": 2,
   "metadata": {},
   "outputs": [
    {
     "name": "stdout",
     "output_type": "stream",
     "text": [
      "  0.001637 seconds (2.68 k allocations: 131.750 KB)\n",
      "Status: Optimal\n",
      "Objective value: 22.0\n",
      "x = %xVariable of\n",
      "size: (1, 1)\n",
      "sign: Convex.NoSign()\n",
      "vexity: Convex.AffineVexity()\n",
      "value: 2.0\n",
      "y = Variable of\n",
      "size: (1, 1)\n",
      "sign: Convex.NoSign()\n",
      "vexity: Convex.AffineVexity()\n",
      "value: 4.0\n"
     ]
    }
   ],
   "source": [
    "using Convex\n",
    "\n",
    "x = Variable(1, :Int)\n",
    "y = Variable(1, :Int)\n",
    "\n",
    "obj = 5*x+3*y\n",
    "\n",
    "problem = maximize(obj, 3*x + 1*y <= 10, 0 <= x, x <= 10, 0 <= y, y <= 5)\n",
    "\n",
    "using GLPKMathProgInterface\n",
    "@time solve!(problem, GLPKSolverMIP())\n",
    "\n",
    "println(\"Status: \", problem.status)\n",
    "println(\"Objective value: \", problem.optval)\n",
    "println(\"x = %x\", x)\n",
    "println(\"y = \", y)"
   ]
  },
  {
   "cell_type": "code",
   "execution_count": null,
   "metadata": {
    "collapsed": true
   },
   "outputs": [],
   "source": []
  }
 ],
 "metadata": {
  "kernelspec": {
   "display_name": "Julia 0.5.2",
   "language": "julia",
   "name": "julia-0.5"
  },
  "language_info": {
   "file_extension": ".jl",
   "mimetype": "application/julia",
   "name": "julia",
   "version": "0.5.2"
  }
 },
 "nbformat": 4,
 "nbformat_minor": 2
}
