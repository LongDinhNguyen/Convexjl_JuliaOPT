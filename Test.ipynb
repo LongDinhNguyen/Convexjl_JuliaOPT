{
 "cells": [
  {
   "cell_type": "code",
   "execution_count": 8,
   "metadata": {},
   "outputs": [
    {
     "name": "stdout",
     "output_type": "stream",
     "text": [
      "size(term_j) = (5,)\n"
     ]
    },
    {
     "ename": "LoadError",
     "evalue": "MethodError: no method matching isnan(::Convex.EucNormAtom)\u001b[0m\nClosest candidates are:\n  isnan(\u001b[1m\u001b[31m::BigFloat\u001b[0m) at mpfr.jl:796\n  isnan(\u001b[1m\u001b[31m::Float16\u001b[0m) at float16.jl:117\n  isnan(\u001b[1m\u001b[31m::AbstractFloat\u001b[0m) at float.jl:355\n  ...\u001b[0m",
     "output_type": "error",
     "traceback": [
      "MethodError: no method matching isnan(::Convex.EucNormAtom)\u001b[0m\nClosest candidates are:\n  isnan(\u001b[1m\u001b[31m::BigFloat\u001b[0m) at mpfr.jl:796\n  isnan(\u001b[1m\u001b[31m::Float16\u001b[0m) at float16.jl:117\n  isnan(\u001b[1m\u001b[31m::AbstractFloat\u001b[0m) at float.jl:355\n  ...\u001b[0m",
      "",
      " in generic_vecnormInf(::Array{Convex.MultiplyAtom,1}) at .\\linalg\\generic.jl:100",
      " in generic_vecnorm2(::Array{Convex.MultiplyAtom,1}) at .\\linalg\\generic.jl:124",
      " in vecnorm(::Array{Convex.MultiplyAtom,1}, ::Int64) at .\\linalg\\generic.jl:185",
      " in norm(::Array{Convex.MultiplyAtom,1}, ::Int64) at .\\linalg\\generic.jl:201",
      " in macro expansion; at .\\In[8]:49 [inlined]",
      " in anonymous at .\\<missing>:?"
     ]
    }
   ],
   "source": [
    "using Convex\n",
    "tic()\n",
    "\n",
    "# set data\n",
    "k = 5; # number of elements\n",
    "n = 20; # number of antennas at BS\n",
    "P0 = 100; # max power budget\n",
    "P_cir = 100;\n",
    "r0 = 0.2; # data rate QoS\n",
    "delta = 1; # normalized Gaussian noise\n",
    "\n",
    "# set channel model from a BS (multi-antenna) to multiple UEs (single-antenna)\n",
    "H = 0.5*(randn(n,k) + im*randn(n,k))\n",
    "\n",
    "# Assume pathloss (large-scale) channel is fixed with the value of 1e-2\n",
    "path = 1e-2;\n",
    "\n",
    "# Applying Conjugate beamforming\n",
    "F_conj = H*inv(H'*H);\n",
    "\n",
    "# Nomalized vector beamforming\n",
    "f_nor = randn(n,k) + im*randn(n,k);\n",
    "for i=1:k\n",
    "    f_nor[:,i] = F_conj[:,i]/norm(F_conj[:,i],2);\n",
    "end\n",
    "\n",
    "beta = Array{Any,2}(rand(k,k))\n",
    "for i = 1:k\n",
    "    beta[:,i] = [path*abs2(H[:,i]'*H[:,j])/norm(H[:,j]) for j = 1:k]\n",
    "end\n",
    "\n",
    "\n",
    "# ##############################################\n",
    "# ########## Initial point ############\n",
    "p_ini = Variable(k , Positive())\n",
    "obj_ini = sumsquares(p_ini) + P_cir\n",
    "\n",
    "problem = minimize(obj_ini)\n",
    "\n",
    "# problem.constraints += sumsquares(p_ini) <= P0\n",
    "for i = 1:k\n",
    "    term_j = Variable(k , Positive());\n",
    "    for j = 1:k\n",
    "        if (j!=i)\n",
    "            term_j = [p_ini[j]*sqrt(beta[j,i]) for (j!=i) = 1:k] # [term_j, p_ini[j]*sqrt(beta[j,i])]\n",
    "        end\n",
    "    end\n",
    "    @show size(term_j)\n",
    "    problem.constraints += p_ini[i]*sqrt(beta[i,i]/delta) >= sqrt(exp(1)^r0-1)*norm(term_j,2)\n",
    "    # problem.constraints += p_ini[i]*sqrt(beta[i,i]/delta) >= sqrt(exp(1)^r0-1) \n",
    "end\n",
    "\n",
    "using ECOS\n",
    "@time solve!(problem, ECOSSolver())\n",
    "\n",
    "pow_ini = p_ini.value\n",
    "@show pow_ini"
   ]
  },
  {
   "cell_type": "code",
   "execution_count": null,
   "metadata": {
    "collapsed": true
   },
   "outputs": [],
   "source": []
  }
 ],
 "metadata": {
  "kernelspec": {
   "display_name": "Julia 0.5.1",
   "language": "julia",
   "name": "julia-0.5"
  },
  "language_info": {
   "file_extension": ".jl",
   "mimetype": "application/julia",
   "name": "julia",
   "version": "0.5.1"
  }
 },
 "nbformat": 4,
 "nbformat_minor": 2
}
