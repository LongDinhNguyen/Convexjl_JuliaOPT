{
 "cells": [
  {
   "cell_type": "code",
   "execution_count": 1,
   "metadata": {
    "collapsed": true
   },
   "outputs": [],
   "source": [
    "#  Copyright 2017, Iain Dunning, Joey Huchette, Miles Lubin, and contributors\n",
    "#  This Source Code Form is subject to the terms of the Mozilla Public\n",
    "#  License, v. 2.0. If a copy of the MPL was not distributed with this\n",
    "#  file, You can obtain one at http://mozilla.org/MPL/2.0/.\n",
    "#############################################################################\n",
    "# JuMP\n",
    "# An algebraic modeling langauge for Julia\n",
    "# See http://github.com/JuliaOpt/JuMP.jl\n",
    "#############################################################################\n",
    "# knapsack.jl\n",
    "#\n",
    "# Solves a simple knapsack problem:\n",
    "# max sum(p_j x_j)\n",
    "#  st sum(w_j x_j) <= C\n",
    "#     x binary\n",
    "#############################################################################"
   ]
  },
  {
   "cell_type": "code",
   "execution_count": 12,
   "metadata": {},
   "outputs": [
    {
     "name": "stdout",
     "output_type": "stream",
     "text": [
      "  0.872799 seconds (584.87 k allocations: 25.000 MB, 0.69% gc time)\n",
      "Status: Optimal\n",
      "Optimal value = 40.0\n",
      "Value of x = Variable of\n",
      "size: (10, 1)\n",
      "sign: Convex.NoSign()\n",
      "vexity: Convex.AffineVexity()\n",
      "value: [1.0; 1.0; 1.0; 1.0; 1.0; 0.0; 1.0; 1.0; 1.0; 1.0]\n"
     ]
    }
   ],
   "source": [
    "# tic()\n",
    "using Convex \n",
    "\n",
    "# Maximization problem\n",
    "size_vec = 10\n",
    "profit = rand(1:10,size_vec) # reinterpret(Int64, rand(size_vec))\n",
    "weight = rand(1:10,size_vec) # reinterpret(Int64, rand(size_vec))\n",
    "capacity = 50\n",
    "\n",
    "x = Variable(size_vec, :Bin) # x = Variable(size_vec, :Int)\n",
    "\n",
    "# Objective: maximize profit\n",
    "obj = dot(profit, x)\n",
    "\n",
    "# Constraint: can carry all\n",
    "const1 = dot(weight, x)\n",
    "\n",
    "problem = maximize(obj, const1 <= capacity)\n",
    "\n",
    "\n",
    "# Solve problem using MIP solver\n",
    "using GLPKMathProgInterface\n",
    "@time solve!(problem, GLPKSolverMIP())\n",
    "# toc()\n",
    "\n",
    "println(\"Status: \", problem.status)\n",
    "println(\"Optimal value = \", problem.optval)\n",
    "println(\"Value of x = \", x)\n",
    "#for i = 1:size_vec\n",
    "#    print(\"x[$i] = \", getvalue(x[i]))\n",
    "#    println(\", p[$i]/w[$i] = \", profit[i]/weight[i])\n",
    "#end\n",
    "\n",
    "# println(\"Random profit: \", profit)\n",
    "# println(\"Random weights: \", weight)\n",
    "# println(\"x = \", getvalue(x))\n",
    "# println(\"profit/weights = \", profit./weight)"
   ]
  },
  {
   "cell_type": "code",
   "execution_count": null,
   "metadata": {
    "collapsed": true
   },
   "outputs": [],
   "source": []
  }
 ],
 "metadata": {
  "kernelspec": {
   "display_name": "Julia 0.5.2",
   "language": "julia",
   "name": "julia-0.5"
  },
  "language_info": {
   "file_extension": ".jl",
   "mimetype": "application/julia",
   "name": "julia",
   "version": "0.5.2"
  }
 },
 "nbformat": 4,
 "nbformat_minor": 2
}
