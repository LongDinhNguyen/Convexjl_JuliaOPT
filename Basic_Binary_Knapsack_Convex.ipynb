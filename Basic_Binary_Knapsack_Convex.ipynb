{
 "cells": [
  {
   "cell_type": "code",
   "execution_count": 7,
   "metadata": {
    "collapsed": true
   },
   "outputs": [],
   "source": [
    "# Given a knapsack of some capacity C and n objects with object i having weight w_i and profit p_i, \n",
    "# the goal is to choose some subset of the objects that can fit in the knapsack \n",
    "# (i.e. the sum of their weights is no more than C) while maximizing profit.\n",
    "# This can be formulated as a mixed-integer program as:\n",
    "# maximize x'p \n",
    "#            x in {0, 1} \n",
    "#            w'x <= C \n",
    "# x is a vector is size n where x_i is one if we chose to keep the object in the knapsack, 0 otherwise."
   ]
  },
  {
   "cell_type": "code",
   "execution_count": 11,
   "metadata": {},
   "outputs": [
    {
     "name": "stdout",
     "output_type": "stream",
     "text": [
      "elapsed time: 1.584713891 seconds\n",
      "Optimal\n",
      "20796.57678482095\n",
      "[0.0; 0.0; 0.0; 0.0; 0.0; 0.0; 0.0; 0.0; 0.0; 0.0; 0.0; 0.0; 0.0; 0.0; 0.0; 0.0; 0.0; 0.0; 0.0; 0.0; 0.0; 0.0; 0.0; 0.0; 0.0; 0.0; 0.0; 0.0; 0.0; 0.0; 0.0; 0.0; 0.0; 0.0; 0.0; 0.0; 0.0; 0.0; 0.0; 0.0; 0.0; 0.0; 0.0; 0.0; 0.0; 0.0; 0.0; 0.0; 0.0; 0.0; 0.0; 0.0; 0.0; 0.0; 0.0; 0.0; 0.0; 0.0; 0.0; 0.0; 0.0; 0.0; 0.0; 0.0; 0.0; 0.0; 0.0; 0.0; 0.0; 0.0; 0.0; 0.0; 0.0; 0.0; 0.0; 0.0; 0.0; 0.0; 0.0; 0.0; 0.0; 0.0; 0.0; 0.0; 0.0; 0.0; 0.0; 0.0; 0.0; 0.0; 0.0; 0.0; 0.0; 0.0; 0.0; 0.0; 0.0; 1.0; 1.0; 0.0]\n"
     ]
    }
   ],
   "source": [
    "N = 100;\n",
    "# w = [23; 31; 29; 44; 53; 38; 63; 85; 89; 82]\n",
    "w = 100*rand(1,N)\n",
    "C = 100*N \n",
    "# p =  [92; 57; 49; 68; 60; 43; 67; 84; 87; 72];\n",
    "p = 200*rand(1,N)\n",
    "n = length(w)\n",
    "\n",
    "tic()\n",
    "using Convex, GLPKMathProgInterface\n",
    "x = Variable(n, :Bin)\n",
    "problem = maximize(dot(p, x), dot(w, x) <= C)\n",
    "solve!(problem, GLPKSolverMIP())\n",
    "toc()\n",
    "\n",
    "println(problem.status)\n",
    "println(problem.optval)\n",
    "println(x.value)"
   ]
  },
  {
   "cell_type": "code",
   "execution_count": null,
   "metadata": {
    "collapsed": true
   },
   "outputs": [],
   "source": []
  }
 ],
 "metadata": {
  "kernelspec": {
   "display_name": "Julia 0.5.2",
   "language": "julia",
   "name": "julia-0.5"
  },
  "language_info": {
   "file_extension": ".jl",
   "mimetype": "application/julia",
   "name": "julia",
   "version": "0.5.2"
  }
 },
 "nbformat": 4,
 "nbformat_minor": 2
}
