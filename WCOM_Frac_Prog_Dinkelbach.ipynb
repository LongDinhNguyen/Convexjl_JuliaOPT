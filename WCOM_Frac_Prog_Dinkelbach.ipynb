{
 "cells": [
  {
   "cell_type": "code",
   "execution_count": 1,
   "metadata": {
    "collapsed": true
   },
   "outputs": [],
   "source": [
    "# This code is written by\n",
    "# Long Dinh Nguyen, PhD student at Queen's University Belfast\n",
    "# Email: dinhlonghcmut@gmail.com (lnguyen04@qub.ac.uk)\n",
    "#\n",
    "#\n",
    "#\n",
    "# This convex problem is to implement a basic fractional program (FP) using Dinkelbach's method\n",
    "#\n",
    "# For instance, the general FP problem as Energy Efficiency problem\n",
    "# max    sum(rate(x(p)))/Power(x(p))\n",
    "# s.t. log(1 + |h'*x(p)|^2/delta) >= r_{QoS}\n",
    "#      ||x(p)||_2^2 <= P_{max}\n",
    "\n",
    "# rate(x(p_i)) = log(1 + a_i*p_i/delta)\n",
    "# Power(x(p)) = ||x(p)||_2^2 + P_{cir}\n",
    "###########################################"
   ]
  },
  {
   "cell_type": "code",
   "execution_count": 1,
   "metadata": {},
   "outputs": [
    {
     "name": "stdout",
     "output_type": "stream",
     "text": [
      "Iteration: 1\n",
      "  3.916738 seconds (3.56 M allocations: 145.018 MB, 0.98% gc time)\n",
      "Error_Alg is: 1\n",
      "Optimal value is: [0.0252233]\n",
      "Iteration: 2\n",
      "  0.010108 seconds (29.70 k allocations: 1.723 MB)\n",
      "Error_Alg is: 0.2714636058516078\n",
      "Optimal value is: [0.0320705]\n",
      "Iteration: 3\n",
      "  0.010264 seconds (29.80 k allocations: 1.715 MB)\n",
      "Error_Alg is: 0.012392016949836325\n",
      "Optimal value is: [0.0324679]\n",
      "Iteration: 4\n",
      "  0.012094 seconds (29.97 k allocations: 1.718 MB)\n",
      "Error_Alg is: 2.992684507515758e-5\n",
      "Optimal value is: [0.0324688]\n",
      "elapsed time: 8.164157779 seconds\n"
     ]
    },
    {
     "data": {
      "text/plain": [
       "1-element Array{Float64,1}:\n",
       " 0.0324688"
      ]
     },
     "execution_count": 1,
     "metadata": {},
     "output_type": "execute_result"
    }
   ],
   "source": [
    "using Convex\n",
    "tic()\n",
    "# set data\n",
    "k = 20; # number of elements\n",
    "n = 100; # number of antennas at BS\n",
    "P0 = 5000; # max power budget\n",
    "P_cir = 1000;\n",
    "r0 = 0.2; # data rate QoS\n",
    "delta = 1; # normalized Gaussian noise\n",
    "\n",
    "# set channel model from a BS (multi-antenna) to multiple UEs (single-antenna)\n",
    "H = 0.5*(randn(n,k) + im*randn(n,k))\n",
    "\n",
    "# Assume pathloss (large-scale) channel is fixed with the value of 1e-2\n",
    "path = 1e-2;\n",
    "\n",
    "# Applying ZF beamforming to iliminate the inter-user interferences\n",
    "F_zf = H*inv(H'*H);\n",
    "\n",
    "# Nomalized vector beamforming\n",
    "f_nor = zeros(n,k)+im*zeros(n,k);\n",
    "beta = zeros(k);\n",
    "for i=1:k\n",
    "    f_nor[:,i] = F_zf[:,i]/norm(F_zf[:,i],2);\n",
    "end\n",
    "    \n",
    "beta = [path*abs2( H[:,i]'*f_nor[:,i] ) for i = 1:k]\n",
    "\n",
    "\n",
    "# ##############################################\n",
    "# ########## Dinkelbach's method ############\n",
    "\n",
    "# set tau_ini\n",
    "tau_ini = 0.01;\n",
    "er_alg = 1; \n",
    "iter_alg = 0;\n",
    "ref_sol = [];\n",
    "problem_val_opt = 0;\n",
    "\n",
    "while (er_alg >= 1e-4)\n",
    "\n",
    "    iter_alg = iter_alg + 1;\n",
    "    println(\"Iteration: \", iter_alg)\n",
    "\n",
    "    if (iter_alg == 1)\n",
    "        tau_ref = tau_ini;\n",
    "    end\n",
    "    \n",
    "x = Variable(k , Positive())\n",
    "obj1 = sum(log(1 + beta[i]*x[i]/delta) for i=1:k)\n",
    "obj2 = sum(x[i] for i=1:k) + P_cir\n",
    "         \n",
    "problem = maximize((obj1 - tau_ref*obj2))\n",
    "\n",
    "problem.constraints += sum(x[i] for i=1:k) <= P0\n",
    "for i = 1:k\n",
    "    problem.constraints += x[i]*beta[i]/delta >= (exp(1)^r0-1)  \n",
    "end\n",
    "\n",
    "using ECOS\n",
    "@time solve!(problem, ECOSSolver())\n",
    "\n",
    "obj1_opt = sum(log(1 + beta[i]*x.value[i]/delta) for i=1:k);\n",
    "obj2_opt = sum(x.value[i] for i=1:k) + P_cir;\n",
    "tau_ref = obj1_opt/obj2_opt;    \n",
    "ref_sol = [ref_sol; tau_ref];\n",
    "# println(\"ref_sol is: \", ref_sol)\n",
    "if (iter_alg >= 2)\n",
    "        er_alg = abs(ref_sol[iter_alg] - ref_sol[iter_alg-1])/abs(ref_sol[iter_alg-1]);\n",
    "end\n",
    "println(\"Error_Alg is: \", er_alg)\n",
    "\n",
    "problem_val_opt = tau_ref \n",
    "println(\"Optimal value is: \", tau_ref)\n",
    "    \n",
    "if (iter_alg >= 20)\n",
    "    er_alg = 0;    \n",
    "end\n",
    "end\n",
    "toc()\n",
    "\n",
    "problem_val_opt\n",
    "\n"
   ]
  },
  {
   "cell_type": "code",
   "execution_count": null,
   "metadata": {
    "collapsed": true
   },
   "outputs": [],
   "source": []
  }
 ],
 "metadata": {
  "kernelspec": {
   "display_name": "Julia 0.5.2",
   "language": "julia",
   "name": "julia-0.5"
  },
  "language_info": {
   "file_extension": ".jl",
   "mimetype": "application/julia",
   "name": "julia",
   "version": "0.5.2"
  }
 },
 "nbformat": 4,
 "nbformat_minor": 2
}
