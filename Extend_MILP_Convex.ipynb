{
 "cells": [
  {
   "cell_type": "code",
   "execution_count": 1,
   "metadata": {
    "collapsed": true
   },
   "outputs": [],
   "source": [
    "# Using Convexjl\n",
    "#############################################################################\n",
    "# Vector_MILP.jl\n",
    "#\n",
    "# Solves a simple Mixed-Integer LP:\n",
    "# max a'*x\n",
    "#  st b'*x <= c\n",
    "#      0 <= x_i <= 10\n",
    "#      x_i in integer\n",
    "#############################################################################"
   ]
  },
  {
   "cell_type": "code",
   "execution_count": 14,
   "metadata": {},
   "outputs": [
    {
     "name": "stdout",
     "output_type": "stream",
     "text": [
      "  1.816837 seconds (47.37 k allocations: 3.668 MB)\n",
      "Status: Optimal\n",
      "Objective value: 56944.29247547493\n"
     ]
    }
   ],
   "source": [
    "using Convex\n",
    "\n",
    "N = 1000;\n",
    "a = 5*rand(N,1);\n",
    "b = 5*rand(N,1);\n",
    "c = 10*N;\n",
    "\n",
    "x = Variable(N, :Int)\n",
    "\n",
    "obj = a'*x\n",
    "\n",
    "problem = maximize(obj, b'*x <= c, 0 <= x, x <= 100)\n",
    "\n",
    "using GLPKMathProgInterface\n",
    "@time solve!(problem, GLPKSolverMIP())\n",
    "\n",
    "println(\"Status: \", problem.status)\n",
    "println(\"Objective value: \", problem.optval)\n",
    "#println(\"x = %x\", x)"
   ]
  },
  {
   "cell_type": "code",
   "execution_count": null,
   "metadata": {
    "collapsed": true
   },
   "outputs": [],
   "source": []
  }
 ],
 "metadata": {
  "kernelspec": {
   "display_name": "Julia 0.5.2",
   "language": "julia",
   "name": "julia-0.5"
  },
  "language_info": {
   "file_extension": ".jl",
   "mimetype": "application/julia",
   "name": "julia",
   "version": "0.5.2"
  }
 },
 "nbformat": 4,
 "nbformat_minor": 2
}
